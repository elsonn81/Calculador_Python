{
  "nbformat": 4,
  "nbformat_minor": 0,
  "metadata": {
    "colab": {
      "provenance": []
    },
    "kernelspec": {
      "name": "python3",
      "display_name": "Python 3"
    },
    "language_info": {
      "name": "python"
    }
  },
  "cells": [
    {
      "cell_type": "markdown",
      "source": [
        "* Utilize o comando ‘input’ para receber ao menos 2 números de entrada do usuário;\n",
        "* Converta os valores recebidos pelo usuário para número inteiro (int) ou ponto flutuante (float);\n",
        "* Implemente ao menos 4 operações matemáticas em seu código;\n",
        "* Adicione um laço de repetição ou uma condicional. Por exemplo: você pode permitir que o usuário escolha qual operação realizar ou criar um loop que permita ao usuário realizar várias operações consecutivas;\n",
        "* Utilize o comando ‘print’ para exibir o resultado da operação matemática."
      ],
      "metadata": {
        "id": "9EoL1X6bL1tr"
      }
    },
    {
      "cell_type": "code",
      "execution_count": 9,
      "metadata": {
        "colab": {
          "base_uri": "https://localhost:8080/"
        },
        "id": "GRlS1cbuLvdG",
        "outputId": "bc402339-49e0-4a5f-d4b9-eb24ee874a3e"
      },
      "outputs": [
        {
          "output_type": "stream",
          "name": "stdout",
          "text": [
            "Digite o primeiro número: 3\n",
            "Digite a operação desejada:+\n",
            "Digite o segundo número: 3\n",
            "O resultado de sua conta é: 6.0\n"
          ]
        }
      ],
      "source": [
        "n1 = float(input('Digite o primeiro número: '))\n",
        "operação = input('Digite a operação desejada:')\n",
        "n2 = float(input('Digite o segundo número: '))\n",
        "\n",
        "if operação == '+':\n",
        "    resultado = n1 + n2\n",
        "elif operação == '-':\n",
        "    resultado = n1 - n2\n",
        "elif operação == '*':\n",
        "    resultado = n1 * n2\n",
        "elif operação == '/':\n",
        "    if n2 != 0:\n",
        "        resultado = n1 / n2\n",
        "    else:\n",
        "        resultado = 'Erro: Divisão por zero não é permitida.'\n",
        "else:\n",
        "    resultado = 'Operação inválida.'\n",
        "\n",
        "print('O resultado de sua conta é: {}'.format(resultado))"
      ]
    }
  ]
}